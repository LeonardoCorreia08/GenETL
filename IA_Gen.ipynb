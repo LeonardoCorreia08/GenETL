{
  "nbformat": 4,
  "nbformat_minor": 0,
  "metadata": {
    "colab": {
      "provenance": [],
      "include_colab_link": true
    },
    "kernelspec": {
      "name": "python3",
      "display_name": "Python 3"
    },
    "language_info": {
      "name": "python"
    }
  },
  "cells": [
    {
      "cell_type": "markdown",
      "metadata": {
        "id": "view-in-github",
        "colab_type": "text"
      },
      "source": [
        "<a href=\"https://colab.research.google.com/github/LeonardoCorreia08/GenETL/blob/main/IA_Gen.ipynb\" target=\"_parent\"><img src=\"https://colab.research.google.com/assets/colab-badge.svg\" alt=\"Open In Colab\"/></a>"
      ]
    },
    {
      "cell_type": "markdown",
      "source": [
        "# Santander Dev Week 2023 (ETL com Python)"
      ],
      "metadata": {
        "id": "BPJQsTCULaC-"
      }
    },
    {
      "cell_type": "markdown",
      "source": [
        "**Contexto:** Você é um cientista de dados no Santander e recebeu a tarefa de envolver seus clientes de maneira mais personalizada. Seu objetivo é usar o poder da IA Generativa para criar mensagens de marketing personalizadas que serão entregues a cada cliente.\n",
        "\n",
        "**Condições do Problema:**\n",
        "\n",
        "1. Você recebeu uma planilha simples, em formato CSV ('SDW2023.csv'), com uma lista de IDs de usuário do banco:\n",
        "  ```\n",
        "  UserID\n",
        "  1\n",
        "  2\n",
        "  3\n",
        "  4\n",
        "  5\n",
        "  ```\n",
        "2. Seu trabalho é consumir o endpoint `GET https://sdw-2023-prd.up.railway.app/users/{id}` (API da Santander Dev Week 2023) para obter os dados de cada cliente.\n",
        "3. Depois de obter os dados dos clientes, você vai usar a API do ChatGPT (OpenAI) para gerar uma mensagem de marketing personalizada para cada cliente. Essa mensagem deve enfatizar a importância dos investimentos.\n",
        "4. Uma vez que a mensagem para cada cliente esteja pronta, você vai enviar essas informações de volta para a API, atualizando a lista de \"news\" de cada usuário usando o endpoint `PUT https://sdw-2023-prd.up.railway.app/users/{id}`.\n",
        "\n"
      ],
      "metadata": {
        "id": "k5fA5OrXt1a3"
      }
    },
    {
      "cell_type": "code",
      "source": [
        "# Utilize sua própria URL se quiser ;)\n",
        "#Repositório da API: https://github.com/digitalinnovationone/santander-dev-week-2023-api\n",
        "sdw2023_api_url = 'https://sdw-2023-prd.up.railway.app/'"
      ],
      "metadata": {
        "id": "FKqLC_CWoYqR"
      },
      "execution_count": 75,
      "outputs": []
    },
    {
      "cell_type": "code",
      "source": [
        "def get_user(id):\n",
        "  response = requests.get(f'https://sdw-2023-prd.up.railway.app/users/{id}')\n",
        "  return response.json() if response.status_code == 200 else None\n",
        "users = [user for id in user_ids if (user := get_user(id)) is not None]\n",
        "print(json.dumps(users, indent=2))"
      ],
      "metadata": {
        "colab": {
          "base_uri": "https://localhost:8080/"
        },
        "id": "T23GyV5ssRST",
        "outputId": "d6c2520f-fd44-4efd-e72f-996e13758b49"
      },
      "execution_count": 76,
      "outputs": [
        {
          "output_type": "stream",
          "name": "stdout",
          "text": [
            "[\n",
            "  {\n",
            "    \"id\": 1,\n",
            "    \"name\": \"Devweekerson\",\n",
            "    \"account\": {\n",
            "      \"id\": 1,\n",
            "      \"number\": \"01.097954-4\",\n",
            "      \"agency\": \"2030\",\n",
            "      \"balance\": 624.12,\n",
            "      \"limit\": 1000.0\n",
            "    },\n",
            "    \"card\": {\n",
            "      \"id\": 1,\n",
            "      \"number\": \"xxxx xxxx xxxx 1111\",\n",
            "      \"limit\": 2000.0\n",
            "    },\n",
            "    \"features\": [\n",
            "      {\n",
            "        \"id\": 2,\n",
            "        \"icon\": \"https://digitalinnovationone.github.io/santander-dev-week-2023-api/icons/pay.svg\",\n",
            "        \"description\": \"Pagar\"\n",
            "      },\n",
            "      {\n",
            "        \"id\": 3,\n",
            "        \"icon\": \"https://digitalinnovationone.github.io/santander-dev-week-2023-api/icons/transfer.svg\",\n",
            "        \"description\": \"Transferir\"\n",
            "      },\n",
            "      {\n",
            "        \"id\": 4,\n",
            "        \"icon\": \"https://digitalinnovationone.github.io/santander-dev-week-2023-api/icons/account.svg\",\n",
            "        \"description\": \"Conta Corrente\"\n",
            "      },\n",
            "      {\n",
            "        \"id\": 5,\n",
            "        \"icon\": \"https://digitalinnovationone.github.io/santander-dev-week-2023-api/icons/cards.svg\",\n",
            "        \"description\": \"Cart\\u00f5es\"\n",
            "      },\n",
            "      {\n",
            "        \"id\": 1,\n",
            "        \"icon\": \"https://digitalinnovationone.github.io/santander-dev-week-2023-api/icons/pix.svg\",\n",
            "        \"description\": \"PIX\"\n",
            "      }\n",
            "    ],\n",
            "    \"news\": [\n",
            "      {\n",
            "        \"id\": 1,\n",
            "        \"icon\": \"https://digitalinnovationone.github.io/santander-dev-week-2023-api/icons/credit.svg\",\n",
            "        \"description\": \"O Santander tem solu\\u00e7\\u00f5es de cr\\u00e9dito sob medida pra voc\\u00ea. Confira!\"\n",
            "      },\n",
            "      {\n",
            "        \"id\": 2,\n",
            "        \"icon\": \"https://digitalinnovationone.github.io/santander-dev-week-2023-api/icons/insurance.svg\",\n",
            "        \"description\": \"Santander Seguro Casa, seu faz-tudo. Mais de 50 servi\\u00e7os pra voc\\u00ea. Confira!\"\n",
            "      }\n",
            "    ]\n",
            "  }\n",
            "]\n"
          ]
        }
      ]
    },
    {
      "cell_type": "code",
      "source": [
        "import pandas as pd\n",
        "\n",
        "# Dados JSON\n",
        "data = {\n",
        "    \"id\": 1,\n",
        "    \"name\": \"Devweekerson\",\n",
        "    \"account\": {\n",
        "        \"id\": 1,\n",
        "        \"number\": \"01.097954-4\",\n",
        "        \"agency\": \"2030\",\n",
        "        \"balance\": 624.12,\n",
        "        \"limit\": 1000.00\n",
        "    },\n",
        "    \"card\": {\n",
        "        \"id\": 1,\n",
        "        \"number\": \"xxxx xxxx xxxx 1111\",\n",
        "        \"limit\": 2000.00\n",
        "    },\n",
        "    \"features\": [\n",
        "        {\"id\": 2, \"icon\": \"https://digitalinnovationone.github.io/santander-dev-week-2023-api/icons/pay.svg\", \"description\": \"Pagar\"},\n",
        "        {\"id\": 3, \"icon\": \"https://digitalinnovationone.github.io/santander-dev-week-2023-api/icons/transfer.svg\", \"description\": \"Transferir\"},\n",
        "        {\"id\": 4, \"icon\": \"https://digitalinnovationone.github.io/santander-dev-week-2023-api/icons/account.svg\", \"description\": \"Conta Corrente\"},\n",
        "        {\"id\": 5, \"icon\": \"https://digitalinnovationone.github.io/santander-dev-week-2023-api/icons/cards.svg\", \"description\": \"Cartões\"},\n",
        "        {\"id\": 1, \"icon\": \"https://digitalinnovationone.github.io/santander-dev-week-2023-api/icons/pix.svg\", \"description\": \"PIX\"}\n",
        "    ],\n",
        "    \"news\": [\n",
        "        {\"id\": 1, \"icon\": \"https://digitalinnovationone.github.io/santander-dev-week-2023-api/icons/credit.svg\", \"description\": \"O Santander tem soluções de crédito sob medida pra você. Confira!\"},\n",
        "        {\"id\": 2, \"icon\": \"https://digitalinnovationone.github.io/santander-dev-week-2023-api/icons/insurance.svg\", \"description\": \"Santander Seguro Casa, seu faz-tudo. Mais de 50 serviços pra você. Confira!\"}\n",
        "    ]\n",
        "}\n",
        "\n",
        "# Converter para DataFrame\n",
        "df = pd.json_normalize(data)\n",
        "\n",
        "# Salvar em um arquivo CSV\n",
        "df.to_csv('SDW2023.csv', index=False)\n",
        "\n",
        "print(\"Dados salvos em 'SDW2023.csv'\")\n",
        "\n"
      ],
      "metadata": {
        "colab": {
          "base_uri": "https://localhost:8080/"
        },
        "id": "eNWMLtXDj4xZ",
        "outputId": "a39f43d6-1972-4c76-82fb-a7e0fa63f4c9"
      },
      "execution_count": 77,
      "outputs": [
        {
          "output_type": "stream",
          "name": "stdout",
          "text": [
            "Dados salvos em 'SDW2023.csv'\n"
          ]
        }
      ]
    },
    {
      "cell_type": "markdown",
      "source": [
        "## **E**xtract\n",
        "\n",
        "Extraia a lista de IDs de usuário a partir do arquivo CSV. Para cada ID, faça uma requisição GET para obter os dados do usuário correspondente."
      ],
      "metadata": {
        "id": "9dfI-o7gLRq9"
      }
    },
    {
      "cell_type": "code",
      "execution_count": 78,
      "metadata": {
        "id": "NYydpX_GLRCB",
        "colab": {
          "base_uri": "https://localhost:8080/"
        },
        "outputId": "39160a6a-fd5b-47c6-99e9-8ba18d93bf4f"
      },
      "outputs": [
        {
          "output_type": "stream",
          "name": "stdout",
          "text": [
            "[1]\n"
          ]
        }
      ],
      "source": [
        "import pandas as pd\n",
        "\n",
        "df = pd.read_csv('SDW2023.csv')\n",
        "user_ids = df['id'].tolist()\n",
        "print(user_ids)"
      ]
    },
    {
      "cell_type": "code",
      "source": [
        "import requests\n",
        "import json\n",
        "\n",
        "def get_user(id):\n",
        "  response = requests.get(f'{sdw2023_api_url}/users/{id}')\n",
        "  return response.json() if response.status_code == 200 else None\n",
        "\n",
        "users = [user for id in user_ids if (user := get_user(id)) is not None]\n",
        "print(json.dumps(users, indent=2))"
      ],
      "metadata": {
        "id": "F5XOuCZGSTGw",
        "colab": {
          "base_uri": "https://localhost:8080/"
        },
        "outputId": "fd761781-d9a7-4eed-8644-cd721c040032"
      },
      "execution_count": 79,
      "outputs": [
        {
          "output_type": "stream",
          "name": "stdout",
          "text": [
            "[]\n"
          ]
        }
      ]
    },
    {
      "cell_type": "markdown",
      "source": [
        "## **T**ransform\n",
        "\n",
        "Utilize a API do OpenAI GPT-4 para gerar uma mensagem de marketing personalizada para cada usuário."
      ],
      "metadata": {
        "id": "cWoqInB4TF1x"
      }
    },
    {
      "cell_type": "code",
      "source": [
        "import pandas as pd\n",
        "\n",
        "# Lista de frases motivacionais\n",
        "frases_motivacionais = [\n",
        "    \"Acredite em você mesmo e tudo será possível.\",\n",
        "    \"Você é mais forte do que pensa.\",\n",
        "    \"O sucesso nasce do querer, da determinação e persistência em se chegar a um objetivo.\",\n",
        "    \"O único lugar onde o sucesso vem antes do trabalho é no dicionário.\",\n",
        "    \"Nada é tão nosso quanto nossos sonhos.\",\n",
        "    \"A vida é feita de escolhas. Escolha ser feliz!\",\n",
        "    \"Acredite nos seus sonhos e nos seus potenciais.\",\n",
        "    \"Nunca é tarde demais para ser o que você poderia ter sido.\",\n",
        "    \"O sucesso é a soma de pequenos esforços repetidos dia após dia.\",\n",
        "    \"A persistência realiza o impossível.\",\n",
        "]\n",
        "\n",
        "# Criar um DataFrame com as frases\n",
        "df = pd.DataFrame({'Frase Motivacional': frases_motivacionais})\n",
        "\n",
        "# Salvar o DataFrame em um arquivo CSV\n",
        "df.to_csv('Frases.csv', index=False)\n",
        "\n",
        "print(\"Arquivo 'Frases.csv' criado com sucesso!\")\n"
      ],
      "metadata": {
        "colab": {
          "base_uri": "https://localhost:8080/"
        },
        "id": "PkWzS6VbsvmP",
        "outputId": "43d8c89c-bd25-448c-eb55-f957d091efb2"
      },
      "execution_count": 80,
      "outputs": [
        {
          "output_type": "stream",
          "name": "stdout",
          "text": [
            "Arquivo 'Frases.csv' criado com sucesso!\n"
          ]
        }
      ]
    },
    {
      "cell_type": "markdown",
      "source": [
        "## **L**oad\n",
        "\n",
        "Atualize a lista de \"news\" de cada usuário na API com a nova mensagem gerada."
      ],
      "metadata": {
        "id": "kNuP0SDUZMBY"
      }
    },
    {
      "cell_type": "code",
      "source": [
        "import pandas as pd\n",
        "import random\n",
        "\n",
        "# Carregar o DataFrame com as frases motivacionais\n",
        "df = pd.read_csv('Frases.csv')\n",
        "frases = df['Frase Motivacional'].tolist()\n",
        "\n",
        "# Suponhamos que 'users' seja a lista de usuários que você já possui\n",
        "\n",
        "for user in users:\n",
        "    numFrase = random.randint(0, len(frases) - 1)\n",
        "    news = frases[numFrase]\n",
        "    user['news'].append({\n",
        "        \"icon\": \"https://digitalinnovationone.github.io/santander-dev-week-2023-api/icons/credit.svg\",\n",
        "        \"description\": news\n",
        "    })\n"
      ],
      "metadata": {
        "id": "nIbDhv3StTec"
      },
      "execution_count": 81,
      "outputs": []
    },
    {
      "cell_type": "code",
      "source": [
        "def update_user(user):\n",
        "    response = requests.put(f'https://sdw-2023-prd.up.railway.app/users/{user[\"id\"]}', json=user)\n",
        "    return True if response.status_code == 200 else False\n",
        "\n",
        "for user in users:\n",
        "    success = update_user(user)\n",
        "\n",
        "    print(f\"User {user['name']} updated? {success}!\")"
      ],
      "metadata": {
        "id": "O-GEDrJ5sVjv"
      },
      "execution_count": 88,
      "outputs": []
    }
  ]
}